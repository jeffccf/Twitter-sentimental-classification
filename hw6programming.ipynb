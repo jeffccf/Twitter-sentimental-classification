{
 "cells": [
  {
   "cell_type": "code",
   "execution_count": 1,
   "id": "8dc8a00c",
   "metadata": {},
   "outputs": [
    {
     "name": "stderr",
     "output_type": "stream",
     "text": [
      "C:\\Users\\Jeff\\anaconda3\\lib\\site-packages\\scipy\\__init__.py:138: UserWarning: A NumPy version >=1.16.5 and <1.23.0 is required for this version of SciPy (detected version 1.24.4)\n",
      "  warnings.warn(f\"A NumPy version >={np_minversion} and <{np_maxversion} is required for this version of \"\n"
     ]
    },
    {
     "name": "stdout",
     "output_type": "stream",
     "text": [
      "                                                   text  spam\n",
      "0     Subject: naturally irresistible your corporate...     1\n",
      "1     Subject: the stock trading gunslinger  fanny i...     1\n",
      "2     Subject: unbelievable new homes made easy  im ...     1\n",
      "3     Subject: 4 color printing special  request add...     1\n",
      "4     Subject: do not have money , get software cds ...     1\n",
      "...                                                 ...   ...\n",
      "5723  Subject: re : research and development charges...     0\n",
      "5724  Subject: re : receipts from visit  jim ,  than...     0\n",
      "5725  Subject: re : enron case study update  wow ! a...     0\n",
      "5726  Subject: re : interest  david ,  please , call...     0\n",
      "5727  Subject: news : aurora 5 . 2 update  aurora ve...     0\n",
      "\n",
      "[5728 rows x 2 columns]\n"
     ]
    }
   ],
   "source": [
    "# Part 1: Preproccesing\n",
    "import pandas as pd\n",
    "import nltk\n",
    "from nltk.tokenize import word_tokenize\n",
    "from nltk.corpus import stopwords\n",
    "from nltk import PorterStemmer\n",
    "from sklearn.feature_extraction.text import CountVectorizer\n",
    "import numpy as np\n",
    "from sklearn.model_selection import train_test_split\n",
    "import matplotlib.pyplot as plt\n",
    "from torch.autograd import Variable\n",
    "\n",
    "local_file=\"emails-1.csv\"\n",
    "df = pd.read_csv(local_file,sep=',',header=0,engine='python')\n",
    "# Use pd.read_csv to read the csv\n",
    "print(df)"
   ]
  },
  {
   "cell_type": "code",
   "execution_count": 2,
   "id": "d5e5f1c8",
   "metadata": {},
   "outputs": [
    {
     "name": "stdout",
     "output_type": "stream",
     "text": [
      "                                                text  spam\n",
      "0  subject : natur irresist your corpor ident lt ...     1\n",
      "1  subject : the stock trade gunsling fanni is me...     1\n",
      "2  subject : unbeliev new home made easi im want ...     1\n",
      "3  subject : 4 color print special request addit ...     1\n",
      "4  subject : do not have money , get softwar cd f...     1\n"
     ]
    }
   ],
   "source": [
    "def stem(text):\n",
    "    ps=PorterStemmer()\n",
    "    return [ps.stem(word) for word in text]\n",
    "\n",
    "#tokenize the words \n",
    "token=lambda x:word_tokenize(x)\n",
    "\n",
    "# Transform elements\n",
    "df['text']=df['text'].apply(token)\n",
    "df['text']=df['text'].apply(lambda x:stem(x)) # \n",
    "df['text']=df['text'].apply(lambda x:' '.join(x))\n",
    "print(df.head())"
   ]
  },
  {
   "cell_type": "code",
   "execution_count": 3,
   "id": "5c2a585e",
   "metadata": {},
   "outputs": [],
   "source": [
    "maxfea=5000\n",
    "cv = CountVectorizer(max_features = maxfea, stop_words = 'english')\n",
    "fea = cv.fit_transform(df['text']).toarray()\n",
    "text_train, text_test, spam_train, spam_test= train_test_split(fea, np.array(df['spam']))"
   ]
  },
  {
   "cell_type": "code",
   "execution_count": 4,
   "id": "79d8ebaa",
   "metadata": {},
   "outputs": [],
   "source": [
    "import torch\n",
    "import torch.nn as nn"
   ]
  },
  {
   "cell_type": "code",
   "execution_count": 5,
   "id": "106f43b7",
   "metadata": {},
   "outputs": [],
   "source": [
    "# Part 2: Logistic Regression\n",
    "class LogisticRegression(nn.Module):\n",
    "    def __init__(self):\n",
    "        super(LogisticRegression, self).__init__()\n",
    "        self.l1 = nn.Linear(5000, 1000)\n",
    "        self.l2 = nn.Linear(1000, 100)\n",
    "        self.l3 = nn.Linear(100, 10)\n",
    "        self.l4 = nn.Linear(10, 2)\n",
    "    def forward(self, x):\n",
    "        x = torch.nn.functional.relu(self.l1(x))\n",
    "        x = torch.nn.functional.relu(self.l2(x))\n",
    "        x = torch.nn.functional.relu(self.l3(x))\n",
    "        x = self.l4(x)\n",
    "        return x"
   ]
  },
  {
   "cell_type": "code",
   "execution_count": 6,
   "id": "3897d948",
   "metadata": {},
   "outputs": [],
   "source": [
    "text_train = Variable(torch.from_numpy(text_train)).float()\n",
    "spam_train = Variable(torch.from_numpy(spam_train)).long()\n",
    "text_test = Variable(torch.from_numpy(text_test)).float()\n",
    "spam_test = Variable(torch.from_numpy(spam_test)).long()"
   ]
  },
  {
   "cell_type": "code",
   "execution_count": 7,
   "id": "d8ea0eca",
   "metadata": {},
   "outputs": [
    {
     "data": {
      "text/plain": [
       "25"
      ]
     },
     "execution_count": 7,
     "metadata": {},
     "output_type": "execute_result"
    }
   ],
   "source": [
    "import gc\n",
    "gc.collect()"
   ]
  },
  {
   "cell_type": "code",
   "execution_count": 8,
   "id": "b6c73a90",
   "metadata": {},
   "outputs": [
    {
     "name": "stdout",
     "output_type": "stream",
     "text": [
      "Epoch: 1\n",
      "loss: 0.6833588480949402\n",
      "Accuracy: 74.41806\n",
      "Epoch: 2\n",
      "loss: 0.6792413592338562\n",
      "Accuracy: 76.16387\n",
      "Epoch: 3\n",
      "loss: 0.6586338877677917\n",
      "Accuracy: 76.18715\n",
      "Epoch: 4\n",
      "loss: 0.6273149847984314\n",
      "Accuracy: 76.6527\n",
      "Epoch: 5\n",
      "loss: 0.5907794833183289\n",
      "Accuracy: 76.6527\n",
      "Epoch: 6\n",
      "loss: 0.5509103536605835\n",
      "Accuracy: 76.6527\n",
      "Epoch: 7\n",
      "loss: 0.5087113380432129\n",
      "Accuracy: 76.6527\n",
      "Epoch: 8\n",
      "loss: 0.46522727608680725\n",
      "Accuracy: 76.6527\n",
      "Epoch: 9\n",
      "loss: 0.421738862991333\n",
      "Accuracy: 76.67598\n",
      "Epoch: 10\n",
      "loss: 0.37988772988319397\n",
      "Accuracy: 77.397575\n",
      "Epoch: 11\n",
      "loss: 0.3416287899017334\n",
      "Accuracy: 78.53818\n",
      "Epoch: 12\n",
      "loss: 0.3078572452068329\n",
      "Accuracy: 79.88827\n",
      "Epoch: 13\n",
      "loss: 0.2782336175441742\n",
      "Accuracy: 81.843575\n",
      "Epoch: 14\n",
      "loss: 0.2505125403404236\n",
      "Accuracy: 88.31471\n",
      "Epoch: 15\n",
      "loss: 0.22216860949993134\n",
      "Accuracy: 91.946\n",
      "Epoch: 16\n",
      "loss: 0.1944727748632431\n",
      "Accuracy: 94.87896\n",
      "Epoch: 17\n",
      "loss: 0.1681463122367859\n",
      "Accuracy: 96.857544\n",
      "Epoch: 18\n",
      "loss: 0.14405177533626556\n",
      "Accuracy: 97.71881\n",
      "Epoch: 19\n",
      "loss: 0.12285838276147842\n",
      "Accuracy: 98.23091\n",
      "Epoch: 20\n",
      "loss: 0.104132279753685\n",
      "Accuracy: 98.67319\n",
      "Epoch: 21\n",
      "loss: 0.08724290132522583\n",
      "Accuracy: 98.99907\n",
      "Epoch: 22\n",
      "loss: 0.07195619493722916\n",
      "Accuracy: 99.18529\n",
      "Epoch: 23\n",
      "loss: 0.05863984301686287\n",
      "Accuracy: 99.34823\n",
      "Epoch: 24\n",
      "loss: 0.04745733365416527\n",
      "Accuracy: 99.44134\n",
      "Epoch: 25\n",
      "loss: 0.03821854665875435\n",
      "Accuracy: 99.60429\n",
      "Epoch: 26\n",
      "loss: 0.030629845336079597\n",
      "Accuracy: 99.65084\n",
      "Epoch: 27\n",
      "loss: 0.02456911839544773\n",
      "Accuracy: 99.72067\n",
      "Epoch: 28\n",
      "loss: 0.01981823518872261\n",
      "Accuracy: 99.76723\n",
      "Epoch: 29\n",
      "loss: 0.016061192378401756\n",
      "Accuracy: 99.83706\n",
      "Epoch: 30\n",
      "loss: 0.013112363405525684\n",
      "Accuracy: 99.86034\n"
     ]
    }
   ],
   "source": [
    "def LR(text_train,spam_train):\n",
    "    LR = LogisticRegression()\n",
    "    criterion = nn.CrossEntropyLoss()\n",
    "    # Adam is an optimization algorithm that combines the advantages of two other extensions of stochastic gradient descent:\n",
    "    # Adaptive Gradient Algorithm (AdaGrad) and Root Mean Square Propagation (RMSProp).\n",
    "    opt = torch.optim.Adam(params=LR.parameters() , lr=0.001)\n",
    "    LR.train()\n",
    "    n=30\n",
    "    for epoch in range(n):\n",
    "        #opt.zero_grad() clears old gradients, otherwise they would be added to the new gradients during the backward pass. \n",
    "        opt.zero_grad()\n",
    "        predict = LR(text_train)\n",
    "        #A loss function, also known as a cost function or objective function, is a crucial component in machine learning and neural networks. \n",
    "        #It measures how well a model's predictions match the actual target values. \n",
    "        #The goal of training a model is to minimize the loss function, thereby improving the model's performance.\n",
    "        loss = criterion(predict, spam_train)\n",
    "        pred = torch.max(predict, 1)[1].eq(spam_train).sum()\n",
    "        acc = pred * 100.0 / len(text_train)\n",
    "        print('Epoch:',epoch+1)\n",
    "        print('loss:',loss.item())\n",
    "        print('Accuracy:', acc.numpy())\n",
    "        loss.backward()\n",
    "        opt.step()\n",
    "    return LR,criterion\n",
    "LR,criterion=LR(text_train,spam_train)"
   ]
  },
  {
   "cell_type": "code",
   "execution_count": 9,
   "id": "31a4def7",
   "metadata": {},
   "outputs": [
    {
     "name": "stdout",
     "output_type": "stream",
     "text": [
      "LR:\n",
      "Accuracy= 0.9916201233863831\n"
     ]
    }
   ],
   "source": [
    "LR.eval()\n",
    "with torch.no_grad():\n",
    "    predict = LR(text_test)\n",
    "    loss = criterion(predict, spam_test)\n",
    "    pred = torch.max(predict, 1)[1].eq(spam_test).sum()\n",
    "    print(\"LR:\")\n",
    "    print (\"Accuracy=\",format(pred/len(text_test)))"
   ]
  },
  {
   "cell_type": "code",
   "execution_count": 10,
   "id": "f77fb966",
   "metadata": {},
   "outputs": [
    {
     "name": "stdout",
     "output_type": "stream",
     "text": [
      "Epoch: 1\n",
      "loss: 0.6981726884841919\n",
      "Accuracy: 26.303537\n",
      "Epoch: 2\n",
      "loss: 0.6457263827323914\n",
      "Accuracy: 77.21136\n",
      "Epoch: 3\n",
      "loss: 0.5778239369392395\n",
      "Accuracy: 76.74581\n",
      "Epoch: 4\n",
      "loss: 0.5095574855804443\n",
      "Accuracy: 77.048416\n",
      "Epoch: 5\n",
      "loss: 0.4467583894729614\n",
      "Accuracy: 78.39851\n",
      "Epoch: 6\n",
      "loss: 0.38983824849128723\n",
      "Accuracy: 80.074486\n",
      "Epoch: 7\n",
      "loss: 0.3381441533565521\n",
      "Accuracy: 81.86685\n",
      "Epoch: 8\n",
      "loss: 0.29411986470222473\n",
      "Accuracy: 84.939476\n",
      "Epoch: 9\n",
      "loss: 0.2609201669692993\n",
      "Accuracy: 88.91992\n",
      "Epoch: 10\n",
      "loss: 0.23594848811626434\n",
      "Accuracy: 92.03911\n",
      "Epoch: 11\n",
      "loss: 0.21554818749427795\n",
      "Accuracy: 94.925514\n",
      "Epoch: 12\n",
      "loss: 0.1976642906665802\n",
      "Accuracy: 96.32216\n",
      "Epoch: 13\n",
      "loss: 0.18088506162166595\n",
      "Accuracy: 97.2067\n",
      "Epoch: 14\n",
      "loss: 0.16462472081184387\n",
      "Accuracy: 97.69553\n",
      "Epoch: 15\n",
      "loss: 0.14852389693260193\n",
      "Accuracy: 97.97486\n",
      "Epoch: 16\n",
      "loss: 0.13251203298568726\n",
      "Accuracy: 98.1378\n",
      "Epoch: 17\n",
      "loss: 0.11693057417869568\n",
      "Accuracy: 98.48696\n",
      "Epoch: 18\n",
      "loss: 0.10200953483581543\n",
      "Accuracy: 98.74302\n",
      "Epoch: 19\n",
      "loss: 0.08789582550525665\n",
      "Accuracy: 98.97579\n",
      "Epoch: 20\n",
      "loss: 0.07488203048706055\n",
      "Accuracy: 99.04562\n",
      "Epoch: 21\n",
      "loss: 0.06325653940439224\n",
      "Accuracy: 99.23184\n",
      "Epoch: 22\n",
      "loss: 0.05313766375184059\n",
      "Accuracy: 99.32495\n",
      "Epoch: 23\n",
      "loss: 0.04446612298488617\n",
      "Accuracy: 99.51117\n",
      "Epoch: 24\n",
      "loss: 0.03713696822524071\n",
      "Accuracy: 99.55773\n",
      "Epoch: 25\n",
      "loss: 0.031092869117856026\n",
      "Accuracy: 99.58101\n",
      "Epoch: 26\n",
      "loss: 0.026203975081443787\n",
      "Accuracy: 99.67412\n",
      "Epoch: 27\n",
      "loss: 0.0222628191113472\n",
      "Accuracy: 99.76723\n",
      "Epoch: 28\n",
      "loss: 0.019078515470027924\n",
      "Accuracy: 99.81378\n",
      "Epoch: 29\n",
      "loss: 0.016525374725461006\n",
      "Accuracy: 99.83706\n",
      "Epoch: 30\n",
      "loss: 0.014486882835626602\n",
      "Accuracy: 99.86034\n"
     ]
    }
   ],
   "source": [
    "def LR_Regularized(text_train,spam_train):\n",
    "    LR_R = LogisticRegression()\n",
    "    criterion = nn.CrossEntropyLoss()\n",
    "    #weight_decay is an additional parameter that adds a penalty to the loss function. \n",
    "    #This technique is also known as L2 regularization.\n",
    "    opt = torch.optim.Adam(params=LR_R.parameters() , lr=0.001, weight_decay=0.001)\n",
    "    LR_R.train()\n",
    "    n=30\n",
    "    for epoch in range(n):\n",
    "        opt.zero_grad()\n",
    "        predict = LR_R(text_train)\n",
    "        loss = criterion(predict, spam_train)\n",
    "        pred = torch.max(predict, 1)[1].eq(spam_train).sum()\n",
    "        acc = pred * 100.0 / len(text_train)\n",
    "        print('Epoch:',epoch+1)\n",
    "        print('loss:',loss.item())\n",
    "        print('Accuracy:', acc.numpy())\n",
    "        loss.backward()\n",
    "        opt.step()\n",
    "    return LR_R,criterion\n",
    "LR_R,criterion=LR_Regularized(text_train,spam_train)"
   ]
  },
  {
   "cell_type": "code",
   "execution_count": 11,
   "id": "a927000a",
   "metadata": {},
   "outputs": [
    {
     "name": "stdout",
     "output_type": "stream",
     "text": [
      "LR with regularization:\n",
      "Accuracy= 0.9881284832954407\n"
     ]
    }
   ],
   "source": [
    "LR_R.eval()\n",
    "with torch.no_grad():\n",
    "    predict = LR_R(text_test)\n",
    "    loss = criterion(predict, spam_test)\n",
    "    pred = torch.max(predict, 1)[1].eq(spam_test).sum()\n",
    "    print(\"LR with regularization:\")\n",
    "    print (\"Accuracy=\",format(pred/len(text_test)))"
   ]
  },
  {
   "cell_type": "code",
   "execution_count": 12,
   "id": "57949c98",
   "metadata": {},
   "outputs": [
    {
     "data": {
      "text/plain": [
       "\"\\nIf we don't do regularization, the accuracy will be around 99.2%\\nIf we use regularization, the accuracy will be around 98.8%\\n\""
      ]
     },
     "execution_count": 12,
     "metadata": {},
     "output_type": "execute_result"
    }
   ],
   "source": [
    "'''\n",
    "If we don't do regularization, the accuracy will be around 99.2%\n",
    "If we use regularization, the accuracy will be around 98.8%\n",
    "'''"
   ]
  },
  {
   "cell_type": "code",
   "execution_count": 13,
   "id": "68cc8820",
   "metadata": {},
   "outputs": [],
   "source": [
    "# Part 3: Decision Tree\n",
    "def DT(text_train,spam_train,text_test,md):\n",
    "    from sklearn import tree\n",
    "    clf = tree.DecisionTreeClassifier(max_depth=md)\n",
    "    clf = clf.fit(text_train, spam_train)\n",
    "    print(clf.get_depth())\n",
    "    return clf.predict(text_test)"
   ]
  },
  {
   "cell_type": "code",
   "execution_count": 14,
   "id": "a3d12c91",
   "metadata": {
    "scrolled": true
   },
   "outputs": [
    {
     "name": "stdout",
     "output_type": "stream",
     "text": [
      "10\n",
      "Depth= 10\n",
      "Accuracy:  0.9601955413818359\n",
      "11\n",
      "Depth= 11\n",
      "Accuracy:  0.9601955413818359\n",
      "12\n",
      "Depth= 12\n",
      "Accuracy:  0.9629888534545898\n",
      "13\n",
      "Depth= 13\n",
      "Accuracy:  0.9594972133636475\n",
      "14\n",
      "Depth= 14\n",
      "Accuracy:  0.9601955413818359\n",
      "15\n",
      "Depth= 15\n",
      "Accuracy:  0.9594972133636475\n",
      "16\n",
      "Depth= 16\n",
      "Accuracy:  0.9636871218681335\n",
      "17\n",
      "Depth= 17\n",
      "Accuracy:  0.9629888534545898\n",
      "18\n",
      "Depth= 18\n",
      "Accuracy:  0.9622905254364014\n",
      "19\n",
      "Depth= 19\n",
      "Accuracy:  0.9622905254364014\n"
     ]
    }
   ],
   "source": [
    "for dep in range(10,20):\n",
    "    predict = DT(text_train,spam_train,text_test,dep)\n",
    "    n=0\n",
    "    for i in range(len(predict)):\n",
    "        n+=(predict[i] == spam_test[i])\n",
    "    print(\"Depth=\",dep)\n",
    "    print (\"Accuracy: \",float(n/len(predict)))"
   ]
  },
  {
   "cell_type": "code",
   "execution_count": 15,
   "id": "cf2493f5",
   "metadata": {},
   "outputs": [
    {
     "name": "stdout",
     "output_type": "stream",
     "text": [
      "63\n",
      "Accuracy:  0.9685754179954529\n"
     ]
    }
   ],
   "source": [
    "predict = DT(text_train,spam_train,text_test,1000)\n",
    "n=0\n",
    "for i in range(len(predict)):\n",
    "    n+=(predict[i] == spam_test[i])\n",
    "print (\"Accuracy: \",float(n/len(predict)))"
   ]
  },
  {
   "cell_type": "code",
   "execution_count": 16,
   "id": "6d90fcde",
   "metadata": {},
   "outputs": [
    {
     "data": {
      "text/plain": [
       "'\\nWe start from maximum depth=1, the accuracy is around 76%, which is pretty low.\\nWhen the maximum depth increases, the accuracy gets higher.\\nThe optimum depth is around 70.\\nHowever, the accuracy saturates around 96% as maximum depth growth.\\nWhen we choose maximum depth as 20, the accuracy is around 96%.\\nFor the sake of complexity, I believe setting maximum depth to 20 is sufficient for a great accuracy.\\n'"
      ]
     },
     "execution_count": 16,
     "metadata": {},
     "output_type": "execute_result"
    }
   ],
   "source": [
    "'''\n",
    "We start from maximum depth=1, the accuracy is around 76%, which is pretty low.\n",
    "When the maximum depth increases, the accuracy gets higher.\n",
    "The optimum depth is around 70.\n",
    "However, the accuracy saturates around 96% as maximum depth growth.\n",
    "When we choose maximum depth as 20, the accuracy is around 96%.\n",
    "For the sake of complexity, I believe setting maximum depth to 20 is sufficient for a great accuracy.\n",
    "'''"
   ]
  },
  {
   "cell_type": "code",
   "execution_count": 17,
   "id": "0860cf01",
   "metadata": {},
   "outputs": [],
   "source": [
    "# Part 4: random forest\n",
    "def random_forest(text_train, spam_train, text_test,md):\n",
    "    from sklearn.ensemble import RandomForestClassifier\n",
    "    clf = RandomForestClassifier(max_depth=md, random_state=0)\n",
    "    clf.fit(text_train, spam_train)\n",
    "    return clf.predict(text_test)"
   ]
  },
  {
   "cell_type": "code",
   "execution_count": 18,
   "id": "b5ac0d23",
   "metadata": {},
   "outputs": [
    {
     "name": "stdout",
     "output_type": "stream",
     "text": [
      "Depth= 40\n",
      "Accuracy:  0.9783519506454468\n",
      "Depth= 41\n",
      "Accuracy:  0.9790502786636353\n",
      "Depth= 42\n",
      "Accuracy:  0.9797486066818237\n",
      "Depth= 43\n",
      "Accuracy:  0.9790502786636353\n",
      "Depth= 44\n",
      "Accuracy:  0.9818435907363892\n",
      "Depth= 45\n",
      "Accuracy:  0.9783519506454468\n",
      "Depth= 46\n",
      "Accuracy:  0.9804469347000122\n",
      "Depth= 47\n",
      "Accuracy:  0.9846368432044983\n",
      "Depth= 48\n",
      "Accuracy:  0.9846368432044983\n",
      "Depth= 49\n",
      "Accuracy:  0.9818435907363892\n"
     ]
    }
   ],
   "source": [
    "for dep in range(40,50):\n",
    "    predict = random_forest(text_train, spam_train, text_test,dep)\n",
    "    n=0\n",
    "    for i in range(len(predict)):\n",
    "        n+=(predict[i] == spam_test[i])\n",
    "    print(\"Depth=\",dep)\n",
    "    print (\"Accuracy: \",float(n/len(predict)))"
   ]
  },
  {
   "cell_type": "code",
   "execution_count": 19,
   "id": "a70b167b",
   "metadata": {},
   "outputs": [
    {
     "name": "stdout",
     "output_type": "stream",
     "text": [
      "Accuracy:  0.9860334992408752\n"
     ]
    }
   ],
   "source": [
    "predict = random_forest(text_train, spam_train, text_test,1000)\n",
    "n=0\n",
    "for i in range(len(predict)):\n",
    "    n+=(predict[i] == spam_test[i])\n",
    "print (\"Accuracy: \",float(n/len(predict)))"
   ]
  },
  {
   "cell_type": "code",
   "execution_count": 20,
   "id": "696509e4",
   "metadata": {},
   "outputs": [
    {
     "data": {
      "text/plain": [
       "'\\nWe start from maximum depth=1, the accuracy is around 76%, which is pretty low.\\nWhen the maximum depth increases, the accuracy gets higher.\\nHowever, the accuracy saturates around 98.8% as maximum depth growth.\\nWhen we choose maximum depth as 40, the accuracy is around 98%.\\nFor the sake of complexity, I believe set maximum depth to 40 is sufficient for a great accuracy.\\nIt is obvious that random forest is a better model than decision tree because it is the majority vote of decision trees.\\nThe accuracy is 98% vs 96%.\\n'"
      ]
     },
     "execution_count": 20,
     "metadata": {},
     "output_type": "execute_result"
    }
   ],
   "source": [
    "'''\n",
    "We start from maximum depth=1, the accuracy is around 76%, which is pretty low.\n",
    "When the maximum depth increases, the accuracy gets higher.\n",
    "However, the accuracy saturates around 98.8% as maximum depth growth.\n",
    "When we choose maximum depth as 40, the accuracy is around 98%.\n",
    "For the sake of complexity, I believe set maximum depth to 40 is sufficient for a great accuracy.\n",
    "It is obvious that random forest is a better model than decision tree because it is the majority vote of decision trees.\n",
    "The accuracy is 98% vs 96%.\n",
    "'''"
   ]
  },
  {
   "cell_type": "code",
   "execution_count": 21,
   "id": "4240100c",
   "metadata": {},
   "outputs": [
    {
     "data": {
      "text/plain": [
       "'\\nLogistic regression accuracy: 0.9923184514045715\\nLogistic regression with regularization accuracy: 0.9888268113136292\\nDecision Tree accuracy: 0.9622905254364014\\nRandom Forest accuracy: 0.9853351712226868\\nAccuracy rank: Logistic regression>Random Forest>Decision Tree\\nThe logistic regression is slightly better than the random forest model.\\nThe difference is small so maybe when there is a different train/test set, the result may be different.\\n'"
      ]
     },
     "execution_count": 21,
     "metadata": {},
     "output_type": "execute_result"
    }
   ],
   "source": [
    "# Part 5: Overall\n",
    "'''\n",
    "Logistic regression accuracy: 0.9923184514045715\n",
    "Logistic regression with regularization accuracy: 0.9888268113136292\n",
    "Decision Tree accuracy: 0.9622905254364014\n",
    "Random Forest accuracy: 0.9853351712226868\n",
    "Accuracy rank: Logistic regression>Random Forest>Decision Tree\n",
    "The logistic regression is slightly better than the random forest model.\n",
    "The difference is small so maybe when there is a different train/test set, the result may be different.\n",
    "'''"
   ]
  },
  {
   "cell_type": "code",
   "execution_count": null,
   "id": "d175ddba",
   "metadata": {},
   "outputs": [],
   "source": []
  }
 ],
 "metadata": {
  "kernelspec": {
   "display_name": "Python 3",
   "language": "python",
   "name": "python3"
  },
  "language_info": {
   "codemirror_mode": {
    "name": "ipython",
    "version": 3
   },
   "file_extension": ".py",
   "mimetype": "text/x-python",
   "name": "python",
   "nbconvert_exporter": "python",
   "pygments_lexer": "ipython3",
   "version": "3.8.10"
  }
 },
 "nbformat": 4,
 "nbformat_minor": 5
}
